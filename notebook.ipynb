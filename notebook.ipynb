{
 "cells": [
  {
   "cell_type": "code",
   "execution_count": 1,
   "id": "d5440149",
   "metadata": {},
   "outputs": [],
   "source": [
    "import requests\n",
    "import fitz  # PyMuPDF\n",
    "\n",
    "OLLAMA_URL = \"http://localhost:11434\"\n",
    "MODEL = \"llama3\"\n",
    "\n",
    "def run_ollama(prompt, system=\"You are a helpful legal assistant.\"):\n",
    "    response = requests.post(\n",
    "        f\"{OLLAMA_URL}/api/chat\",\n",
    "        json={\n",
    "            \"model\": MODEL,\n",
    "            \"messages\": [\n",
    "                {\"role\": \"system\", \"content\": system},\n",
    "                {\"role\": \"user\", \"content\": prompt}\n",
    "            ]\n",
    "        }\n",
    "    )\n",
    "    return response.json()['message']['content']\n"
   ]
  },
  {
   "cell_type": "code",
   "execution_count": 2,
   "id": "7193b2b0",
   "metadata": {},
   "outputs": [],
   "source": [
    "def generate_document(doc_type: str, details: str) -> str:\n",
    "    prompt = f\"Generate a legal {doc_type} document. Include the following details:\\n{details}\"\n",
    "    return run_ollama(prompt, system=\"You are a legal contract generator.\")\n"
   ]
  },
  {
   "cell_type": "code",
   "execution_count": 3,
   "id": "b4afccc4",
   "metadata": {},
   "outputs": [],
   "source": [
    "def analyze_contract(text: str) -> str:\n",
    "    prompt = f\"Analyze this contract:\\n{text}\\n\\nExtract key terms, summarize it, and identify any potential risks.\"\n",
    "    return run_ollama(prompt, system=\"You are a legal contract analyst.\")\n"
   ]
  },
  {
   "cell_type": "code",
   "execution_count": 4,
   "id": "c3db6a6a",
   "metadata": {},
   "outputs": [],
   "source": [
    "def legal_assistant(query: str) -> str:\n",
    "    return run_ollama(query, system=\"You are a virtual legal assistant. Be clear and concise.\")\n"
   ]
  },
  {
   "cell_type": "code",
   "execution_count": 5,
   "id": "fa21dd73",
   "metadata": {},
   "outputs": [],
   "source": [
    "def check_compliance(text: str, clauses: list) -> str:\n",
    "    clause_str = \"\\n\".join(f\"- {c}\" for c in clauses)\n",
    "    prompt = f\"Check if the contract contains these clauses:\\n{clause_str}\\n\\nContract:\\n{text}\"\n",
    "    return run_ollama(prompt, system=\"You are a compliance checker.\")\n"
   ]
  },
  {
   "cell_type": "code",
   "execution_count": 6,
   "id": "fd7c7ed0",
   "metadata": {},
   "outputs": [],
   "source": [
    "def simplify_document(text: str) -> str:\n",
    "    prompt = f\"Translate this legal language into plain English:\\n{text}\"\n",
    "    return run_ollama(prompt, system=\"You simplify legal text.\")\n"
   ]
  },
  {
   "cell_type": "code",
   "execution_count": 7,
   "id": "03ada46e",
   "metadata": {},
   "outputs": [],
   "source": [
    "def extract_text_from_pdf(path: str) -> str:\n",
    "    doc = fitz.open(path)\n",
    "    return \"\\n\".join(page.get_text() for page in doc)\n"
   ]
  },
  {
   "cell_type": "code",
   "execution_count": null,
   "id": "375304e3",
   "metadata": {},
   "outputs": [],
   "source": [
    "# Generate an NDA\n",
    "print(generate_document(\"NDA\", \"between Alice and Bob, for 1 year, regarding product development\"))\n",
    "\n",
    "# Analyze a sample contract\n",
    "sample_contract = \"This agreement is made between Party A and Party B...\"\n",
    "print(analyze_contract(sample_contract))\n",
    "\n",
    "# Ask a question\n",
    "print(legal_assistant(\"What is a non-compete clause?\"))\n",
    "\n",
    "# Check compliance\n",
    "print(check_compliance(sample_contract, [\"Non-compete clause\", \"Confidentiality clause\"]))\n",
    "\n",
    "# Simplify\n",
    "print(simplify_document(sample_contract))\n"
   ]
  }
 ],
 "metadata": {
  "kernelspec": {
   "display_name": "Python 3",
   "language": "python",
   "name": "python3"
  },
  "language_info": {
   "codemirror_mode": {
    "name": "ipython",
    "version": 3
   },
   "file_extension": ".py",
   "mimetype": "text/x-python",
   "name": "python",
   "nbconvert_exporter": "python",
   "pygments_lexer": "ipython3",
   "version": "3.13.3"
  }
 },
 "nbformat": 4,
 "nbformat_minor": 5
}
